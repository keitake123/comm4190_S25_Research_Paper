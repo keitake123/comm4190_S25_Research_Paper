{
 "cells": [
  {
   "cell_type": "markdown",
   "id": "951c5c70-88ca-455f-a243-2c7f6211702e",
   "metadata": {},
   "source": [
    "Angwin, J., Larson, J., Mattu, S., and Kirchner, L. \"Machine Bias.\" *ProPublica*, 2016, [https://www.propublica.org/article/machine-bias-risk-assessments-in-criminal-sentencing](https://www.propublica.org/article/machine-bias-risk-assessments-in-criminal-sentencing). Accessed 13 May 2025.\n",
    "\n",
    "Calo, R. \"The Case for a Federal Right to Data Privacy.\" *Wake Forest Law Review*, vol. 50, no. 4, 2015, pp. 1-22.\n",
    "\n",
    "*General Data Protection Regulation (GDPR)*, European Parliament and Council of the European Union, 2016, [https://gdpr-info.eu](https://gdpr-info.eu). Accessed 13 May 2025.\n",
    "\n",
    "*Health Insurance Portability and Accountability Act (HIPAA)*, U.S. Department of Health and Human Services, 1996, [https://www.hhs.gov/hipaa](https://www.hhs.gov/hipaa). Accessed 13 May 2025.\n",
    "\n",
    "LawGeex. \"LawGeex AI Contract Review Study.\" *LawGeex*, 2018, [https://www.lawgeex.com](https://www.lawgeex.com). Accessed 13 May 2025.\n",
    "\n",
    "McKinsey & Company. \"AI in Law: Transforming Legal Services with Technology.\" *McKinsey & Company*, 2020, [https://www.mckinsey.com](https://www.mckinsey.com). Accessed 13 May 2025.\n",
    "\n",
    "Susskind, R. *The Future of the Professions: How Technology Will Transform the Work of Human Experts*. Oxford University Press, 2020.\n",
    "\n",
    "\"DoNotPay.\" *DoNotPay*, [https://donotpay.com/](https://donotpay.com/). Accessed 13 May 2025.\n",
    "\n",
    "\"Pulsrai.\" *Pulsrai*, [https://pulsrai.com/](https://pulsrai.com/). Accessed 13 May 2025.\n"
   ]
  },
  {
   "cell_type": "code",
   "execution_count": null,
   "id": "68d528d4-fb7a-4ca0-b2cc-c658c3ba9513",
   "metadata": {},
   "outputs": [],
   "source": []
  }
 ],
 "metadata": {
  "kernelspec": {
   "display_name": "Python 3 (ipykernel)",
   "language": "python",
   "name": "python3"
  },
  "language_info": {
   "codemirror_mode": {
    "name": "ipython",
    "version": 3
   },
   "file_extension": ".py",
   "mimetype": "text/x-python",
   "name": "python",
   "nbconvert_exporter": "python",
   "pygments_lexer": "ipython3",
   "version": "3.10.12"
  }
 },
 "nbformat": 4,
 "nbformat_minor": 5
}
